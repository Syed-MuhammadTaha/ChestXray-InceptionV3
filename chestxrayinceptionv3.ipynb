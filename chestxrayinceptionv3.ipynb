{
 "cells": [
  {
   "cell_type": "code",
   "execution_count": 1,
   "id": "5fbcef06",
   "metadata": {
    "_cell_guid": "b1076dfc-b9ad-4769-8c92-a6c4dae69d19",
    "_uuid": "8f2839f25d086af736a60e9eeb907d3b93b6e0e5",
    "execution": {
     "iopub.execute_input": "2024-08-22T18:51:56.095474Z",
     "iopub.status.busy": "2024-08-22T18:51:56.094947Z",
     "iopub.status.idle": "2024-08-22T18:52:15.243331Z",
     "shell.execute_reply": "2024-08-22T18:52:15.241902Z"
    },
    "papermill": {
     "duration": 19.158024,
     "end_time": "2024-08-22T18:52:15.246529",
     "exception": false,
     "start_time": "2024-08-22T18:51:56.088505",
     "status": "completed"
    },
    "tags": []
   },
   "outputs": [],
   "source": [
    "import numpy as np\n",
    "import pandas\n",
    "import matplotlib.pyplot as plt\n",
    "import cv2\n",
    "from tensorflow.keras.preprocessing.image import ImageDataGenerator\n",
    "from tensorflow.keras.models import Sequential, Model\n",
    "from tensorflow.keras.layers import Conv2D, MaxPooling2D, Flatten, Dense, GlobalAveragePooling2D\n",
    "from tensorflow.keras.applications import InceptionV3\n",
    "from PIL import Image"
   ]
  },
  {
   "cell_type": "code",
   "execution_count": 2,
   "id": "cfaf8045",
   "metadata": {
    "execution": {
     "iopub.execute_input": "2024-08-22T18:52:15.257079Z",
     "iopub.status.busy": "2024-08-22T18:52:15.256061Z",
     "iopub.status.idle": "2024-08-22T18:52:15.263277Z",
     "shell.execute_reply": "2024-08-22T18:52:15.261447Z"
    },
    "papermill": {
     "duration": 0.015603,
     "end_time": "2024-08-22T18:52:15.266291",
     "exception": false,
     "start_time": "2024-08-22T18:52:15.250688",
     "status": "completed"
    },
    "tags": []
   },
   "outputs": [],
   "source": [
    "train_data_dir = \"/kaggle/input/chest-xray-pneumonia/chest_xray/train\"\n",
    "test_data_dir = \"/kaggle/input/chest-xray-pneumonia/chest_xray/test\"\n",
    "BATCH_SIZE = 32\n",
    "num_classes = 2\n",
    "\n",
    "learning_rate = 0.0001"
   ]
  },
  {
   "cell_type": "code",
   "execution_count": 3,
   "id": "4bd09b88",
   "metadata": {
    "execution": {
     "iopub.execute_input": "2024-08-22T18:52:15.275376Z",
     "iopub.status.busy": "2024-08-22T18:52:15.274902Z",
     "iopub.status.idle": "2024-08-22T18:52:21.408336Z",
     "shell.execute_reply": "2024-08-22T18:52:21.406727Z"
    },
    "papermill": {
     "duration": 6.141587,
     "end_time": "2024-08-22T18:52:21.411447",
     "exception": false,
     "start_time": "2024-08-22T18:52:15.269860",
     "status": "completed"
    },
    "tags": []
   },
   "outputs": [
    {
     "name": "stdout",
     "output_type": "stream",
     "text": [
      "Found 4173 images belonging to 2 classes.\n",
      "Found 1043 images belonging to 2 classes.\n",
      "Found 624 images belonging to 2 classes.\n"
     ]
    }
   ],
   "source": [
    "train_datagen = ImageDataGenerator(rescale=1. / 255,\n",
    "                                   shear_range=0.2,\n",
    "                                   zoom_range=0.2,\n",
    "                                   horizontal_flip=True,\n",
    "                                   validation_split=0.2)  # Add validation split\n",
    "\n",
    "test_datagen = ImageDataGenerator(rescale=1. / 255)\n",
    "\n",
    "train_generator = train_datagen.flow_from_directory(train_data_dir,\n",
    "                                                    target_size=(150, 150),\n",
    "                                                    class_mode='categorical',\n",
    "                                                    color_mode='rgb',  # Ensure images are loaded in RGB format\n",
    "                                                    subset='training')  # Specify 'training' subset\n",
    "\n",
    "validation_generator = train_datagen.flow_from_directory(train_data_dir,\n",
    "                                                         target_size=(150, 150),\n",
    "                                                         class_mode='categorical',\n",
    "                                                         color_mode='rgb',  # Ensure images are loaded in RGB format\n",
    "                                                         subset='validation')  # Specify 'validation' subset\n",
    "\n",
    "test_generator = test_datagen.flow_from_directory(test_data_dir,\n",
    "                                                  target_size=(150, 150),\n",
    "                                                  class_mode='categorical',\n",
    "                                                  color_mode='rgb')  # Ensure images are loaded in RGB format\n",
    "\n",
    "nb_train_samples = train_generator.samples\n",
    "nb_validation_samples = validation_generator.samples"
   ]
  },
  {
   "cell_type": "code",
   "execution_count": 4,
   "id": "2fe3a8e1",
   "metadata": {
    "execution": {
     "iopub.execute_input": "2024-08-22T18:52:21.421877Z",
     "iopub.status.busy": "2024-08-22T18:52:21.421392Z",
     "iopub.status.idle": "2024-08-22T18:52:25.551162Z",
     "shell.execute_reply": "2024-08-22T18:52:25.549723Z"
    },
    "papermill": {
     "duration": 4.138647,
     "end_time": "2024-08-22T18:52:25.554670",
     "exception": false,
     "start_time": "2024-08-22T18:52:21.416023",
     "status": "completed"
    },
    "tags": []
   },
   "outputs": [],
   "source": [
    "pre_trained_weights = '/kaggle/input/keras-pretrained-models/inception_v3_weights_tf_dim_ordering_tf_kernels_notop.h5'\n",
    "base_model = InceptionV3(weights=pre_trained_weights, include_top=False, input_shape=(150, 150, 3))\n",
    "for layer in base_model.layers:\n",
    "    layer.trainable = False\n",
    "\n",
    "x = base_model.output\n",
    "x = GlobalAveragePooling2D()(x)\n",
    "x = Dense(128, activation='relu')(x)\n",
    "predictions = Dense(2, activation='softmax')(x)\n",
    "\n",
    "model = Model(inputs=base_model.input, outputs=predictions)"
   ]
  },
  {
   "cell_type": "code",
   "execution_count": 5,
   "id": "79511d26",
   "metadata": {
    "collapsed": true,
    "execution": {
     "iopub.execute_input": "2024-08-22T18:52:25.566547Z",
     "iopub.status.busy": "2024-08-22T18:52:25.565901Z",
     "iopub.status.idle": "2024-08-22T19:06:32.940301Z",
     "shell.execute_reply": "2024-08-22T19:06:32.938596Z"
    },
    "jupyter": {
     "outputs_hidden": true
    },
    "papermill": {
     "duration": 847.383793,
     "end_time": "2024-08-22T19:06:32.943874",
     "exception": false,
     "start_time": "2024-08-22T18:52:25.560081",
     "status": "completed"
    },
    "tags": []
   },
   "outputs": [
    {
     "name": "stdout",
     "output_type": "stream",
     "text": [
      "Epoch 1/10\n"
     ]
    },
    {
     "name": "stderr",
     "output_type": "stream",
     "text": [
      "/opt/conda/lib/python3.10/site-packages/keras/src/trainers/data_adapters/py_dataset_adapter.py:121: UserWarning: Your `PyDataset` class should call `super().__init__(**kwargs)` in its constructor. `**kwargs` can include `workers`, `use_multiprocessing`, `max_queue_size`. Do not pass these arguments to `fit()`, as they will be ignored.\n",
      "  self._warn_if_super_not_called()\n"
     ]
    },
    {
     "name": "stdout",
     "output_type": "stream",
     "text": [
      "\u001b[1m130/130\u001b[0m \u001b[32m━━━━━━━━━━━━━━━━━━━━\u001b[0m\u001b[37m\u001b[0m \u001b[1m197s\u001b[0m 1s/step - accuracy: 0.8807 - loss: 0.3895 - val_accuracy: 0.8975 - val_loss: 0.2828\n",
      "Epoch 2/10\n",
      "\u001b[1m  1/130\u001b[0m \u001b[37m━━━━━━━━━━━━━━━━━━━━\u001b[0m \u001b[1m1:30\u001b[0m 700ms/step - accuracy: 1.0000 - loss: 0.0461"
     ]
    },
    {
     "name": "stderr",
     "output_type": "stream",
     "text": [
      "/opt/conda/lib/python3.10/contextlib.py:153: UserWarning: Your input ran out of data; interrupting training. Make sure that your dataset or generator can generate at least `steps_per_epoch * epochs` batches. You may need to use the `.repeat()` function when building your dataset.\n",
      "  self.gen.throw(typ, value, traceback)\n"
     ]
    },
    {
     "name": "stdout",
     "output_type": "stream",
     "text": [
      "\u001b[1m130/130\u001b[0m \u001b[32m━━━━━━━━━━━━━━━━━━━━\u001b[0m\u001b[37m\u001b[0m \u001b[1m1s\u001b[0m 5ms/step - accuracy: 1.0000 - loss: 0.0461 - val_accuracy: 0.8421 - val_loss: 0.4762\n",
      "Epoch 3/10\n",
      "\u001b[1m130/130\u001b[0m \u001b[32m━━━━━━━━━━━━━━━━━━━━\u001b[0m\u001b[37m\u001b[0m \u001b[1m160s\u001b[0m 1s/step - accuracy: 0.9212 - loss: 0.2275 - val_accuracy: 0.9316 - val_loss: 0.1713\n",
      "Epoch 4/10\n",
      "\u001b[1m130/130\u001b[0m \u001b[32m━━━━━━━━━━━━━━━━━━━━\u001b[0m\u001b[37m\u001b[0m \u001b[1m1s\u001b[0m 4ms/step - accuracy: 0.9688 - loss: 0.1050 - val_accuracy: 0.8947 - val_loss: 0.3090\n",
      "Epoch 5/10\n",
      "\u001b[1m130/130\u001b[0m \u001b[32m━━━━━━━━━━━━━━━━━━━━\u001b[0m\u001b[37m\u001b[0m \u001b[1m158s\u001b[0m 1s/step - accuracy: 0.9247 - loss: 0.1894 - val_accuracy: 0.9404 - val_loss: 0.1659\n",
      "Epoch 6/10\n",
      "\u001b[1m130/130\u001b[0m \u001b[32m━━━━━━━━━━━━━━━━━━━━\u001b[0m\u001b[37m\u001b[0m \u001b[1m1s\u001b[0m 4ms/step - accuracy: 0.9375 - loss: 0.1381 - val_accuracy: 0.8947 - val_loss: 0.1523\n",
      "Epoch 7/10\n",
      "\u001b[1m130/130\u001b[0m \u001b[32m━━━━━━━━━━━━━━━━━━━━\u001b[0m\u001b[37m\u001b[0m \u001b[1m157s\u001b[0m 1s/step - accuracy: 0.9407 - loss: 0.1470 - val_accuracy: 0.9219 - val_loss: 0.1978\n",
      "Epoch 8/10\n",
      "\u001b[1m130/130\u001b[0m \u001b[32m━━━━━━━━━━━━━━━━━━━━\u001b[0m\u001b[37m\u001b[0m \u001b[1m1s\u001b[0m 4ms/step - accuracy: 0.9375 - loss: 0.1568 - val_accuracy: 0.8947 - val_loss: 0.3487\n",
      "Epoch 9/10\n",
      "\u001b[1m130/130\u001b[0m \u001b[32m━━━━━━━━━━━━━━━━━━━━\u001b[0m\u001b[37m\u001b[0m \u001b[1m159s\u001b[0m 1s/step - accuracy: 0.9407 - loss: 0.1571 - val_accuracy: 0.9150 - val_loss: 0.2031\n",
      "Epoch 10/10\n",
      "\u001b[1m130/130\u001b[0m \u001b[32m━━━━━━━━━━━━━━━━━━━━\u001b[0m\u001b[37m\u001b[0m \u001b[1m9s\u001b[0m 66ms/step - accuracy: 0.9375 - loss: 0.0918 - val_accuracy: 0.8421 - val_loss: 0.2959\n"
     ]
    },
    {
     "data": {
      "text/plain": [
       "<keras.src.callbacks.history.History at 0x78b93118b250>"
      ]
     },
     "execution_count": 5,
     "metadata": {},
     "output_type": "execute_result"
    }
   ],
   "source": [
    "model.compile(loss='categorical_crossentropy',\n",
    "              optimizer='adam',\n",
    "              metrics=['accuracy'])\n",
    "\n",
    "# Run the model\n",
    "model.fit(train_generator,epochs=10,steps_per_epoch=nb_train_samples // BATCH_SIZE,validation_data=validation_generator,verbose = 1,validation_steps=nb_validation_samples // BATCH_SIZE)"
   ]
  },
  {
   "cell_type": "code",
   "execution_count": 6,
   "id": "e795ac10",
   "metadata": {
    "execution": {
     "iopub.execute_input": "2024-08-22T19:06:33.092146Z",
     "iopub.status.busy": "2024-08-22T19:06:33.090064Z",
     "iopub.status.idle": "2024-08-22T19:06:51.245129Z",
     "shell.execute_reply": "2024-08-22T19:06:51.243958Z"
    },
    "papermill": {
     "duration": 18.23164,
     "end_time": "2024-08-22T19:06:51.248209",
     "exception": false,
     "start_time": "2024-08-22T19:06:33.016569",
     "status": "completed"
    },
    "tags": []
   },
   "outputs": [
    {
     "name": "stdout",
     "output_type": "stream",
     "text": [
      "Model evaluation on test data:\n",
      "\u001b[1m20/20\u001b[0m \u001b[32m━━━━━━━━━━━━━━━━━━━━\u001b[0m\u001b[37m\u001b[0m \u001b[1m16s\u001b[0m 799ms/step - accuracy: 0.8766 - loss: 0.3491\n"
     ]
    }
   ],
   "source": [
    "print(\"Model evaluation on test data:\")\n",
    "model.evaluate(test_generator, steps=len(test_generator))\n",
    "\n",
    "# Save the trained model\n",
    "model.save('image_classifier_model_with_inceptionv3.h5')"
   ]
  }
 ],
 "metadata": {
  "kaggle": {
   "accelerator": "none",
   "dataSources": [
    {
     "datasetId": 17810,
     "sourceId": 23812,
     "sourceType": "datasetVersion"
    },
    {
     "datasetId": 2798,
     "sourceId": 7251,
     "sourceType": "datasetVersion"
    }
   ],
   "dockerImageVersionId": 30761,
   "isGpuEnabled": false,
   "isInternetEnabled": false,
   "language": "python",
   "sourceType": "notebook"
  },
  "kernelspec": {
   "display_name": "Python 3",
   "language": "python",
   "name": "python3"
  },
  "language_info": {
   "codemirror_mode": {
    "name": "ipython",
    "version": 3
   },
   "file_extension": ".py",
   "mimetype": "text/x-python",
   "name": "python",
   "nbconvert_exporter": "python",
   "pygments_lexer": "ipython3",
   "version": "3.10.14"
  },
  "papermill": {
   "default_parameters": {},
   "duration": 902.517038,
   "end_time": "2024-08-22T19:06:54.586246",
   "environment_variables": {},
   "exception": null,
   "input_path": "__notebook__.ipynb",
   "output_path": "__notebook__.ipynb",
   "parameters": {},
   "start_time": "2024-08-22T18:51:52.069208",
   "version": "2.6.0"
  }
 },
 "nbformat": 4,
 "nbformat_minor": 5
}
